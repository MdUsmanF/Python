{
 "cells": [
  {
   "attachments": {},
   "cell_type": "markdown",
   "metadata": {},
   "source": [
    "# Mohammed Usman F"
   ]
  },
  {
   "attachments": {},
   "cell_type": "markdown",
   "metadata": {},
   "source": [
    "#### Display Date and Time \n"
   ]
  },
  {
   "cell_type": "code",
   "execution_count": 1,
   "metadata": {},
   "outputs": [
    {
     "name": "stdout",
     "output_type": "stream",
     "text": [
      " Current Date and Time:\n",
      "2023-29-06/04/23 11:29:56\n"
     ]
    }
   ],
   "source": [
    "import datetime\n",
    "now = datetime.datetime.now()\n",
    "print(\" Current Date and Time:\")\n",
    "print(now.strftime(\"%Y-%M-%D %H:%M:%S\"))"
   ]
  },
  {
   "attachments": {},
   "cell_type": "markdown",
   "metadata": {},
   "source": [
    "#### Area of Circle\n"
   ]
  },
  {
   "cell_type": "code",
   "execution_count": 2,
   "metadata": {},
   "outputs": [
    {
     "name": "stdout",
     "output_type": "stream",
     "text": [
      "Area of Circle is : 78.0\n"
     ]
    }
   ],
   "source": [
    "PI = 3.12\n",
    "r = int(input(\"Enter the Radius of Circle\"))\n",
    "Area = PI*r*r\n",
    "print(\"Area of Circle is :\",Area)"
   ]
  },
  {
   "attachments": {},
   "cell_type": "markdown",
   "metadata": {},
   "source": [
    "#### Perimeter and Area of Rectangle"
   ]
  },
  {
   "cell_type": "code",
   "execution_count": 3,
   "metadata": {},
   "outputs": [
    {
     "name": "stdout",
     "output_type": "stream",
     "text": [
      "Perimeter of Rectangle = 10\n",
      "Area of Reactangle= 12\n"
     ]
    }
   ],
   "source": [
    "l = int(input(\"Enter the Length of the Rectangle\"))\n",
    "b = int(input(\"Enter the Breadth of the Rectangle\"))\n",
    "Area = l*b\n",
    "Perimeter = 2*l+b\n",
    "print(\"Perimeter of Rectangle =\",Perimeter)\n",
    "print(\"Area of Reactangle=\",Area)"
   ]
  },
  {
   "attachments": {},
   "cell_type": "markdown",
   "metadata": {},
   "source": [
    "#### Leap Year"
   ]
  },
  {
   "cell_type": "code",
   "execution_count": null,
   "metadata": {},
   "outputs": [],
   "source": [
    "Name = input(\"Enter Your Name \")\n",
    "print(\"Welcome \",Name)\n",
    "Year = int(input((\"Enter a Year \")))\n",
    "if (Year % 4 ==0) and (Year % 100 != 0) or (Year%400 == 0):\n",
    "    print(\"The Year {} is a Leap Yeear\".format(Year))\n",
    "else:\n",
    "    print(\"The Year {} is not a Leap Year\".format(Year))\n",
    "print(\"Thank You \",Name)"
   ]
  },
  {
   "attachments": {},
   "cell_type": "markdown",
   "metadata": {},
   "source": [
    "#### Factorial of a Number"
   ]
  },
  {
   "cell_type": "code",
   "execution_count": null,
   "metadata": {},
   "outputs": [],
   "source": [
    "Fact = 1\n",
    "Name = input(\"Enter Your Name \")\n",
    "print(\"Welcome \",Name)\n",
    "Number = int(input(\"Enter a Number: \"))\n",
    "if Number < 0:\n",
    "    print(\"Sorry, factorial does not exist for negative numbers\")\n",
    "elif Number == 0:\n",
    "    print(\"The Factorial of 0 is 1\")\n",
    "else:\n",
    "    print(\"Lets find the Factorial of {}\".format(Number))\n",
    "    for i in range (1,Number+1):\n",
    "        Fact = Fact * i\n",
    "        print(\"The Factorial of {} is {}\".format(Number,Fact))"
   ]
  },
  {
   "attachments": {},
   "cell_type": "markdown",
   "metadata": {},
   "source": [
    "#### Multiplication Table"
   ]
  },
  {
   "cell_type": "code",
   "execution_count": null,
   "metadata": {},
   "outputs": [],
   "source": [
    "Name = input(\"Enter Your Name \")\n",
    "print(\"Welcome \",Name)\n",
    "Number=int(input(\"Enter a Number: \")) \n",
    "for i in range(1,11):\n",
    "    print(Number,\"x\",i,\"=\",Number*i)\n",
    "print(\"Thank You\",Name)"
   ]
  },
  {
   "attachments": {},
   "cell_type": "markdown",
   "metadata": {},
   "source": [
    "#### Fibonacci Series"
   ]
  },
  {
   "cell_type": "code",
   "execution_count": null,
   "metadata": {},
   "outputs": [],
   "source": [
    "def Fib(n):\n",
    "    if n <=1:\n",
    "        return n\n",
    "    else:\n",
    "        return Fib(n-1) + Fib(n-2)\n",
    "Name = input(\"Enter Your Name \")\n",
    "print(\"Welcome \",Name)\n",
    "n = int(input(\"Enter number of terms required: \"))\n",
    "if n<= 0:\n",
    "    print(\"Plese enter a positive integer\")\n",
    "else:\n",
    "    print(\"Fibonacci sequence:\")\n",
    "    for i in range(n):\n",
    "        print(Fib(i))\n",
    "print(\"Thank You\",Name)  "
   ]
  },
  {
   "attachments": {},
   "cell_type": "markdown",
   "metadata": {},
   "source": [
    "####                                   Decimal to Other Number System"
   ]
  },
  {
   "cell_type": "code",
   "execution_count": null,
   "metadata": {},
   "outputs": [],
   "source": [
    "Name = input(\"Enter Your Name \")\n",
    "print(\"Welcome \",Name)\n",
    "Number = int(input(\"Enter a  Number\"))\n",
    "print(\"The Binary Value of \",Number,\"is\",bin(Number))\n",
    "print(\"The Octal Value of \",Number,\"is\",oct(Number))\n",
    "print(\"The Hexa Decimal Value of \",Number,\"is\",hex(Number))\n",
    "print(\"Thank You\",Name)"
   ]
  },
  {
   "attachments": {},
   "cell_type": "markdown",
   "metadata": {},
   "source": [
    "#### Decimal to Binary using Recursion"
   ]
  },
  {
   "cell_type": "code",
   "execution_count": null,
   "metadata": {},
   "outputs": [],
   "source": [
    "def DecToBin(n):\n",
    "    if n>1:\n",
    "        DecToBin(n//2)\n",
    "    print(n%2,end = \" \")\n",
    "Number = int(input(\"Enter a Number\"))\n",
    "print(DecToBin(Number))"
   ]
  },
  {
   "attachments": {},
   "cell_type": "markdown",
   "metadata": {},
   "source": [
    "#### Prime Numbers "
   ]
  },
  {
   "cell_type": "code",
   "execution_count": null,
   "metadata": {},
   "outputs": [],
   "source": [
    "lower = 0\n",
    "upper = 10\n",
    "print(\"Prime numbers between\", lower, \"and\", upper, \"are:\")\n",
    "for num in range(lower, upper + 1):\n",
    "    if num > 1:\n",
    "        for i in range(2, num):\n",
    "            if (num % i) == 0:\n",
    "                break\n",
    "        else:\n",
    "            print(num)"
   ]
  },
  {
   "attachments": {},
   "cell_type": "markdown",
   "metadata": {},
   "source": [
    "#### Check if a Number is Odd or Even"
   ]
  },
  {
   "cell_type": "code",
   "execution_count": null,
   "metadata": {},
   "outputs": [],
   "source": [
    "Number = int(input(\"Enter a Number:\"))\n",
    "if Number % 2 == 0:\n",
    "    print(\"The Number {} is Even\".format(Number))\n",
    "else:\n",
    "    print(\"The Number {} is Odd\".format(Number))"
   ]
  },
  {
   "attachments": {},
   "cell_type": "markdown",
   "metadata": {},
   "source": [
    "#### ASCII Value"
   ]
  },
  {
   "cell_type": "code",
   "execution_count": null,
   "metadata": {},
   "outputs": [],
   "source": [
    "c = 'p'\n",
    "print(\"The ASCII value of '\" + c + \"' is\", ord(c))"
   ]
  },
  {
   "attachments": {},
   "cell_type": "markdown",
   "metadata": {},
   "source": [
    "#### ASCII to Character"
   ]
  },
  {
   "cell_type": "code",
   "execution_count": null,
   "metadata": {},
   "outputs": [],
   "source": [
    "c = 112\n",
    "print(\"The character of {} is \".format(c),chr(c))"
   ]
  },
  {
   "attachments": {},
   "cell_type": "markdown",
   "metadata": {},
   "source": [
    "#### Patterns"
   ]
  },
  {
   "cell_type": "code",
   "execution_count": null,
   "metadata": {},
   "outputs": [],
   "source": [
    "Name = input(\"Enter Your Name \")\n",
    "print(\"Welcome \",Name,\"\\nLets Print the Pattern\")\n",
    "n = int(input(\"Enter the Number of Rows\")) \n",
    "for i in range(n):\n",
    "    for j in range (i+1):\n",
    "        print(\"*\",end='')\n",
    "    print(\"\\n\")\n",
    "print(\"Thank You \",Name)"
   ]
  },
  {
   "cell_type": "code",
   "execution_count": 6,
   "metadata": {},
   "outputs": [
    {
     "name": "stdout",
     "output_type": "stream",
     "text": [
      "Hello User\n",
      "Enter a valid Operator\n",
      "The % symbol gives the result for 10 and 20 is None\n"
     ]
    }
   ],
   "source": [
    "print(\"Hello User\")\n",
    "\n",
    "def calculator(operator,num1,num2):\n",
    "    if operator == \"+\": \n",
    "        print(num1+num2)\n",
    "    elif operator == \"-\":\n",
    "        print(num1-num2)\n",
    "    else:\n",
    "        print(\"Enter a valid Operator\")\n",
    "\n",
    "a = 10\n",
    "b = 20\n",
    "ops = \"%\"\n",
    "print(f'The {ops} symbol gives the result for {a} and {b} is {calculator(ops,a,b)}')"
   ]
  },
  {
   "cell_type": "code",
   "execution_count": null,
   "metadata": {},
   "outputs": [],
   "source": []
  }
 ],
 "metadata": {
  "kernelspec": {
   "display_name": "Python 3",
   "language": "python",
   "name": "python3"
  },
  "language_info": {
   "codemirror_mode": {
    "name": "ipython",
    "version": 3
   },
   "file_extension": ".py",
   "mimetype": "text/x-python",
   "name": "python",
   "nbconvert_exporter": "python",
   "pygments_lexer": "ipython3",
   "version": "3.11.1"
  }
 },
 "nbformat": 4,
 "nbformat_minor": 4
}
